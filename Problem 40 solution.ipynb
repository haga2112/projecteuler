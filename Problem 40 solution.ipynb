{
 "cells": [
  {
   "cell_type": "code",
   "execution_count": 57,
   "metadata": {
    "scrolled": true
   },
   "outputs": [
    {
     "name": "stdout",
     "output_type": "stream",
     "text": [
      "1688889\n",
      "210\n"
     ]
    }
   ],
   "source": [
    "one_million = list(range(1, 300000))\n",
    "#print(one_million)\n",
    "\n",
    "champs = ''\n",
    "\n",
    "for x in one_million:\n",
    "    champs += str(x)\n",
    "    \n",
    "print(len(champs))\n",
    "\n",
    "\n",
    "result = int(champs[0]) * int(champs[9]) * int(champs[99]) * \\\n",
    "            int(champs[999]) * int(champs[9999]) * int(champs[99999]) \\\n",
    "            * int(champs[999999])\n",
    "\n",
    "print(result)"
   ]
  }
 ],
 "metadata": {
  "kernelspec": {
   "display_name": "Python 3",
   "language": "python",
   "name": "python3"
  },
  "language_info": {
   "codemirror_mode": {
    "name": "ipython",
    "version": 3
   },
   "file_extension": ".py",
   "mimetype": "text/x-python",
   "name": "python",
   "nbconvert_exporter": "python",
   "pygments_lexer": "ipython3",
   "version": "3.8.5"
  }
 },
 "nbformat": 4,
 "nbformat_minor": 4
}
